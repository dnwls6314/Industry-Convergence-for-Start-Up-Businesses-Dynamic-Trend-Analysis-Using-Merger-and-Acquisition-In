{
 "cells": [
  {
   "cell_type": "code",
   "execution_count": 2,
   "metadata": {},
   "outputs": [
    {
     "name": "stdout",
     "output_type": "stream",
     "text": [
      "C:\\Users\\Woojin\\Desktop\n"
     ]
    }
   ],
   "source": [
    "import os\n",
    "import pandas as pd\n",
    "from os import chdir\n",
    "print(os.getcwd())\n",
    "chdir('C:\\\\Users\\\\Woojin\\\\Desktop')"
   ]
  },
  {
   "cell_type": "code",
   "execution_count": 11,
   "metadata": {},
   "outputs": [],
   "source": [
    "doc_a=pd.read_csv(r\"C:\\Users\\Woojin\\Desktop\\2010data(1).csv\",header=0,encoding=\"utf8\",error_bad_lines=False)"
   ]
  },
  {
   "cell_type": "code",
   "execution_count": 12,
   "metadata": {},
   "outputs": [
    {
     "data": {
      "text/html": [
       "<div>\n",
       "<style scoped>\n",
       "    .dataframe tbody tr th:only-of-type {\n",
       "        vertical-align: middle;\n",
       "    }\n",
       "\n",
       "    .dataframe tbody tr th {\n",
       "        vertical-align: top;\n",
       "    }\n",
       "\n",
       "    .dataframe thead th {\n",
       "        text-align: right;\n",
       "    }\n",
       "</style>\n",
       "<table border=\"1\" class=\"dataframe\">\n",
       "  <thead>\n",
       "    <tr style=\"text-align: right;\">\n",
       "      <th></th>\n",
       "      <th>Transaction Name</th>\n",
       "      <th>Transaction Name URL</th>\n",
       "      <th>Acquiree Name</th>\n",
       "      <th>Acquiree Name URL</th>\n",
       "      <th>Acquirer Name</th>\n",
       "      <th>Acquirer Name URL</th>\n",
       "      <th>Acquiree Description</th>\n",
       "      <th>Acquirer's Description</th>\n",
       "      <th>Acquiree Industries</th>\n",
       "      <th>Acquirer Industries</th>\n",
       "      <th>Announced Date</th>\n",
       "      <th>Announced Date Precision</th>\n",
       "    </tr>\n",
       "  </thead>\n",
       "  <tbody>\n",
       "    <tr>\n",
       "      <th>0</th>\n",
       "      <td>112Ink AB acquired by inkClub AB</td>\n",
       "      <td>https://www.crunchbase.com/acquisition/inkclub...</td>\n",
       "      <td>112Ink AB</td>\n",
       "      <td>https://www.crunchbase.com/organization/112ink-ab</td>\n",
       "      <td>inkClub AB</td>\n",
       "      <td>https://www.crunchbase.com/organization/inkclu...</td>\n",
       "      <td>112Ink AB sells ink and colour ink cartridges,...</td>\n",
       "      <td>inkClub AB operates an online marketplace that...</td>\n",
       "      <td>Internet</td>\n",
       "      <td>Internet</td>\n",
       "      <td>2010-08-17</td>\n",
       "      <td>day</td>\n",
       "    </tr>\n",
       "    <tr>\n",
       "      <th>1</th>\n",
       "      <td>123 Money acquired by RSA Insurance Group</td>\n",
       "      <td>https://www.crunchbase.com/acquisition/rsa-acq...</td>\n",
       "      <td>123 Money</td>\n",
       "      <td>https://www.crunchbase.com/organization/123-money</td>\n",
       "      <td>RSA Insurance Group</td>\n",
       "      <td>https://www.crunchbase.com/organization/rsa</td>\n",
       "      <td>123 Money provides insurance services to consu...</td>\n",
       "      <td>RSA is a multinational insurance group.</td>\n",
       "      <td>Insurance, Life Insurance</td>\n",
       "      <td>Big Data, Business Intelligence, CRM</td>\n",
       "      <td>2010-07-28</td>\n",
       "      <td>day</td>\n",
       "    </tr>\n",
       "    <tr>\n",
       "      <th>2</th>\n",
       "      <td>1st Armored acquired by Loomis AB</td>\n",
       "      <td>https://www.crunchbase.com/acquisition/loomis-...</td>\n",
       "      <td>1st Armored</td>\n",
       "      <td>https://www.crunchbase.com/organization/1st-ar...</td>\n",
       "      <td>Loomis AB</td>\n",
       "      <td>https://www.crunchbase.com/organization/loomis-ab</td>\n",
       "      <td>1st Armored is provides armored transport serv...</td>\n",
       "      <td>Loomis offers a wide range of integrated solut...</td>\n",
       "      <td>Commercial, Transportation</td>\n",
       "      <td>Transportation</td>\n",
       "      <td>2010-03-31</td>\n",
       "      <td>day</td>\n",
       "    </tr>\n",
       "    <tr>\n",
       "      <th>3</th>\n",
       "      <td>20:20 Media acquired by MSL</td>\n",
       "      <td>https://www.crunchbase.com/acquisition/mslgrou...</td>\n",
       "      <td>20:20 Media</td>\n",
       "      <td>https://www.crunchbase.com/organization/20-20-...</td>\n",
       "      <td>MSL</td>\n",
       "      <td>https://www.crunchbase.com/organization/mslgroup</td>\n",
       "      <td>PR firm</td>\n",
       "      <td>MSL is Publicis Groupe’s Global Public Relatio...</td>\n",
       "      <td>Public Relations, Social Media</td>\n",
       "      <td>Consulting, Event Management, Politics, Public...</td>\n",
       "      <td>2010-10-01</td>\n",
       "      <td>day</td>\n",
       "    </tr>\n",
       "    <tr>\n",
       "      <th>4</th>\n",
       "      <td>280 North acquired by Motorola Mobility</td>\n",
       "      <td>https://www.crunchbase.com/acquisition/motorol...</td>\n",
       "      <td>280 North</td>\n",
       "      <td>https://www.crunchbase.com/organization/280-north</td>\n",
       "      <td>Motorola Mobility</td>\n",
       "      <td>https://www.crunchbase.com/organization/motoro...</td>\n",
       "      <td>280 North is a web software development platfo...</td>\n",
       "      <td>Motorola exists to invent, build and deliver t...</td>\n",
       "      <td>Presentations, Software</td>\n",
       "      <td>Mobile, Mobile Devices, Telecommunications</td>\n",
       "      <td>2010-07-01</td>\n",
       "      <td>month</td>\n",
       "    </tr>\n",
       "  </tbody>\n",
       "</table>\n",
       "</div>"
      ],
      "text/plain": [
       "                            Transaction Name  \\\n",
       "0           112Ink AB acquired by inkClub AB   \n",
       "1  123 Money acquired by RSA Insurance Group   \n",
       "2          1st Armored acquired by Loomis AB   \n",
       "3                20:20 Media acquired by MSL   \n",
       "4    280 North acquired by Motorola Mobility   \n",
       "\n",
       "                                Transaction Name URL Acquiree Name  \\\n",
       "0  https://www.crunchbase.com/acquisition/inkclub...     112Ink AB   \n",
       "1  https://www.crunchbase.com/acquisition/rsa-acq...     123 Money   \n",
       "2  https://www.crunchbase.com/acquisition/loomis-...   1st Armored   \n",
       "3  https://www.crunchbase.com/acquisition/mslgrou...   20:20 Media   \n",
       "4  https://www.crunchbase.com/acquisition/motorol...     280 North   \n",
       "\n",
       "                                   Acquiree Name URL        Acquirer Name  \\\n",
       "0  https://www.crunchbase.com/organization/112ink-ab           inkClub AB   \n",
       "1  https://www.crunchbase.com/organization/123-money  RSA Insurance Group   \n",
       "2  https://www.crunchbase.com/organization/1st-ar...            Loomis AB   \n",
       "3  https://www.crunchbase.com/organization/20-20-...                  MSL   \n",
       "4  https://www.crunchbase.com/organization/280-north    Motorola Mobility   \n",
       "\n",
       "                                   Acquirer Name URL  \\\n",
       "0  https://www.crunchbase.com/organization/inkclu...   \n",
       "1        https://www.crunchbase.com/organization/rsa   \n",
       "2  https://www.crunchbase.com/organization/loomis-ab   \n",
       "3   https://www.crunchbase.com/organization/mslgroup   \n",
       "4  https://www.crunchbase.com/organization/motoro...   \n",
       "\n",
       "                                Acquiree Description  \\\n",
       "0  112Ink AB sells ink and colour ink cartridges,...   \n",
       "1  123 Money provides insurance services to consu...   \n",
       "2  1st Armored is provides armored transport serv...   \n",
       "3                                            PR firm   \n",
       "4  280 North is a web software development platfo...   \n",
       "\n",
       "                              Acquirer's Description  \\\n",
       "0  inkClub AB operates an online marketplace that...   \n",
       "1            RSA is a multinational insurance group.   \n",
       "2  Loomis offers a wide range of integrated solut...   \n",
       "3  MSL is Publicis Groupe’s Global Public Relatio...   \n",
       "4  Motorola exists to invent, build and deliver t...   \n",
       "\n",
       "              Acquiree Industries  \\\n",
       "0                        Internet   \n",
       "1       Insurance, Life Insurance   \n",
       "2      Commercial, Transportation   \n",
       "3  Public Relations, Social Media   \n",
       "4         Presentations, Software   \n",
       "\n",
       "                                 Acquirer Industries Announced Date  \\\n",
       "0                                           Internet     2010-08-17   \n",
       "1               Big Data, Business Intelligence, CRM     2010-07-28   \n",
       "2                                     Transportation     2010-03-31   \n",
       "3  Consulting, Event Management, Politics, Public...     2010-10-01   \n",
       "4         Mobile, Mobile Devices, Telecommunications     2010-07-01   \n",
       "\n",
       "  Announced Date Precision  \n",
       "0                      day  \n",
       "1                      day  \n",
       "2                      day  \n",
       "3                      day  \n",
       "4                    month  "
      ]
     },
     "execution_count": 12,
     "metadata": {},
     "output_type": "execute_result"
    }
   ],
   "source": [
    "doc_a.head()"
   ]
  },
  {
   "cell_type": "code",
   "execution_count": 15,
   "metadata": {},
   "outputs": [
    {
     "ename": "UnicodeDecodeError",
     "evalue": "'utf-8' codec can't decode byte 0x99 in position 8976: invalid start byte",
     "output_type": "error",
     "traceback": [
      "\u001b[1;31m---------------------------------------------------------------------------\u001b[0m",
      "\u001b[1;31mUnicodeDecodeError\u001b[0m                        Traceback (most recent call last)",
      "\u001b[1;32m<ipython-input-15-9dde8543b010>\u001b[0m in \u001b[0;36m<module>\u001b[1;34m\u001b[0m\n\u001b[1;32m----> 1\u001b[1;33m \u001b[0mdoc_b\u001b[0m\u001b[1;33m=\u001b[0m\u001b[0mpd\u001b[0m\u001b[1;33m.\u001b[0m\u001b[0mread_csv\u001b[0m\u001b[1;33m(\u001b[0m\u001b[1;34mr\"C:\\Users\\Woojin\\Desktop\\2010data(2).csv\"\u001b[0m\u001b[1;33m,\u001b[0m\u001b[0mheader\u001b[0m\u001b[1;33m=\u001b[0m\u001b[1;36m0\u001b[0m\u001b[1;33m,\u001b[0m\u001b[0mencoding\u001b[0m\u001b[1;33m=\u001b[0m\u001b[1;34m\"utf8\"\u001b[0m\u001b[1;33m,\u001b[0m\u001b[0merror_bad_lines\u001b[0m\u001b[1;33m=\u001b[0m\u001b[1;32mFalse\u001b[0m\u001b[1;33m)\u001b[0m\u001b[1;33m\u001b[0m\u001b[1;33m\u001b[0m\u001b[0m\n\u001b[0m",
      "\u001b[1;32m~\\anaconda3\\lib\\site-packages\\pandas\\io\\parsers.py\u001b[0m in \u001b[0;36mparser_f\u001b[1;34m(filepath_or_buffer, sep, delimiter, header, names, index_col, usecols, squeeze, prefix, mangle_dupe_cols, dtype, engine, converters, true_values, false_values, skipinitialspace, skiprows, skipfooter, nrows, na_values, keep_default_na, na_filter, verbose, skip_blank_lines, parse_dates, infer_datetime_format, keep_date_col, date_parser, dayfirst, cache_dates, iterator, chunksize, compression, thousands, decimal, lineterminator, quotechar, quoting, doublequote, escapechar, comment, encoding, dialect, error_bad_lines, warn_bad_lines, delim_whitespace, low_memory, memory_map, float_precision)\u001b[0m\n\u001b[0;32m    674\u001b[0m         )\n\u001b[0;32m    675\u001b[0m \u001b[1;33m\u001b[0m\u001b[0m\n\u001b[1;32m--> 676\u001b[1;33m         \u001b[1;32mreturn\u001b[0m \u001b[0m_read\u001b[0m\u001b[1;33m(\u001b[0m\u001b[0mfilepath_or_buffer\u001b[0m\u001b[1;33m,\u001b[0m \u001b[0mkwds\u001b[0m\u001b[1;33m)\u001b[0m\u001b[1;33m\u001b[0m\u001b[1;33m\u001b[0m\u001b[0m\n\u001b[0m\u001b[0;32m    677\u001b[0m \u001b[1;33m\u001b[0m\u001b[0m\n\u001b[0;32m    678\u001b[0m     \u001b[0mparser_f\u001b[0m\u001b[1;33m.\u001b[0m\u001b[0m__name__\u001b[0m \u001b[1;33m=\u001b[0m \u001b[0mname\u001b[0m\u001b[1;33m\u001b[0m\u001b[1;33m\u001b[0m\u001b[0m\n",
      "\u001b[1;32m~\\anaconda3\\lib\\site-packages\\pandas\\io\\parsers.py\u001b[0m in \u001b[0;36m_read\u001b[1;34m(filepath_or_buffer, kwds)\u001b[0m\n\u001b[0;32m    446\u001b[0m \u001b[1;33m\u001b[0m\u001b[0m\n\u001b[0;32m    447\u001b[0m     \u001b[1;31m# Create the parser.\u001b[0m\u001b[1;33m\u001b[0m\u001b[1;33m\u001b[0m\u001b[1;33m\u001b[0m\u001b[0m\n\u001b[1;32m--> 448\u001b[1;33m     \u001b[0mparser\u001b[0m \u001b[1;33m=\u001b[0m \u001b[0mTextFileReader\u001b[0m\u001b[1;33m(\u001b[0m\u001b[0mfp_or_buf\u001b[0m\u001b[1;33m,\u001b[0m \u001b[1;33m**\u001b[0m\u001b[0mkwds\u001b[0m\u001b[1;33m)\u001b[0m\u001b[1;33m\u001b[0m\u001b[1;33m\u001b[0m\u001b[0m\n\u001b[0m\u001b[0;32m    449\u001b[0m \u001b[1;33m\u001b[0m\u001b[0m\n\u001b[0;32m    450\u001b[0m     \u001b[1;32mif\u001b[0m \u001b[0mchunksize\u001b[0m \u001b[1;32mor\u001b[0m \u001b[0miterator\u001b[0m\u001b[1;33m:\u001b[0m\u001b[1;33m\u001b[0m\u001b[1;33m\u001b[0m\u001b[0m\n",
      "\u001b[1;32m~\\anaconda3\\lib\\site-packages\\pandas\\io\\parsers.py\u001b[0m in \u001b[0;36m__init__\u001b[1;34m(self, f, engine, **kwds)\u001b[0m\n\u001b[0;32m    878\u001b[0m             \u001b[0mself\u001b[0m\u001b[1;33m.\u001b[0m\u001b[0moptions\u001b[0m\u001b[1;33m[\u001b[0m\u001b[1;34m\"has_index_names\"\u001b[0m\u001b[1;33m]\u001b[0m \u001b[1;33m=\u001b[0m \u001b[0mkwds\u001b[0m\u001b[1;33m[\u001b[0m\u001b[1;34m\"has_index_names\"\u001b[0m\u001b[1;33m]\u001b[0m\u001b[1;33m\u001b[0m\u001b[1;33m\u001b[0m\u001b[0m\n\u001b[0;32m    879\u001b[0m \u001b[1;33m\u001b[0m\u001b[0m\n\u001b[1;32m--> 880\u001b[1;33m         \u001b[0mself\u001b[0m\u001b[1;33m.\u001b[0m\u001b[0m_make_engine\u001b[0m\u001b[1;33m(\u001b[0m\u001b[0mself\u001b[0m\u001b[1;33m.\u001b[0m\u001b[0mengine\u001b[0m\u001b[1;33m)\u001b[0m\u001b[1;33m\u001b[0m\u001b[1;33m\u001b[0m\u001b[0m\n\u001b[0m\u001b[0;32m    881\u001b[0m \u001b[1;33m\u001b[0m\u001b[0m\n\u001b[0;32m    882\u001b[0m     \u001b[1;32mdef\u001b[0m \u001b[0mclose\u001b[0m\u001b[1;33m(\u001b[0m\u001b[0mself\u001b[0m\u001b[1;33m)\u001b[0m\u001b[1;33m:\u001b[0m\u001b[1;33m\u001b[0m\u001b[1;33m\u001b[0m\u001b[0m\n",
      "\u001b[1;32m~\\anaconda3\\lib\\site-packages\\pandas\\io\\parsers.py\u001b[0m in \u001b[0;36m_make_engine\u001b[1;34m(self, engine)\u001b[0m\n\u001b[0;32m   1112\u001b[0m     \u001b[1;32mdef\u001b[0m \u001b[0m_make_engine\u001b[0m\u001b[1;33m(\u001b[0m\u001b[0mself\u001b[0m\u001b[1;33m,\u001b[0m \u001b[0mengine\u001b[0m\u001b[1;33m=\u001b[0m\u001b[1;34m\"c\"\u001b[0m\u001b[1;33m)\u001b[0m\u001b[1;33m:\u001b[0m\u001b[1;33m\u001b[0m\u001b[1;33m\u001b[0m\u001b[0m\n\u001b[0;32m   1113\u001b[0m         \u001b[1;32mif\u001b[0m \u001b[0mengine\u001b[0m \u001b[1;33m==\u001b[0m \u001b[1;34m\"c\"\u001b[0m\u001b[1;33m:\u001b[0m\u001b[1;33m\u001b[0m\u001b[1;33m\u001b[0m\u001b[0m\n\u001b[1;32m-> 1114\u001b[1;33m             \u001b[0mself\u001b[0m\u001b[1;33m.\u001b[0m\u001b[0m_engine\u001b[0m \u001b[1;33m=\u001b[0m \u001b[0mCParserWrapper\u001b[0m\u001b[1;33m(\u001b[0m\u001b[0mself\u001b[0m\u001b[1;33m.\u001b[0m\u001b[0mf\u001b[0m\u001b[1;33m,\u001b[0m \u001b[1;33m**\u001b[0m\u001b[0mself\u001b[0m\u001b[1;33m.\u001b[0m\u001b[0moptions\u001b[0m\u001b[1;33m)\u001b[0m\u001b[1;33m\u001b[0m\u001b[1;33m\u001b[0m\u001b[0m\n\u001b[0m\u001b[0;32m   1115\u001b[0m         \u001b[1;32melse\u001b[0m\u001b[1;33m:\u001b[0m\u001b[1;33m\u001b[0m\u001b[1;33m\u001b[0m\u001b[0m\n\u001b[0;32m   1116\u001b[0m             \u001b[1;32mif\u001b[0m \u001b[0mengine\u001b[0m \u001b[1;33m==\u001b[0m \u001b[1;34m\"python\"\u001b[0m\u001b[1;33m:\u001b[0m\u001b[1;33m\u001b[0m\u001b[1;33m\u001b[0m\u001b[0m\n",
      "\u001b[1;32m~\\anaconda3\\lib\\site-packages\\pandas\\io\\parsers.py\u001b[0m in \u001b[0;36m__init__\u001b[1;34m(self, src, **kwds)\u001b[0m\n\u001b[0;32m   1889\u001b[0m         \u001b[0mkwds\u001b[0m\u001b[1;33m[\u001b[0m\u001b[1;34m\"usecols\"\u001b[0m\u001b[1;33m]\u001b[0m \u001b[1;33m=\u001b[0m \u001b[0mself\u001b[0m\u001b[1;33m.\u001b[0m\u001b[0musecols\u001b[0m\u001b[1;33m\u001b[0m\u001b[1;33m\u001b[0m\u001b[0m\n\u001b[0;32m   1890\u001b[0m \u001b[1;33m\u001b[0m\u001b[0m\n\u001b[1;32m-> 1891\u001b[1;33m         \u001b[0mself\u001b[0m\u001b[1;33m.\u001b[0m\u001b[0m_reader\u001b[0m \u001b[1;33m=\u001b[0m \u001b[0mparsers\u001b[0m\u001b[1;33m.\u001b[0m\u001b[0mTextReader\u001b[0m\u001b[1;33m(\u001b[0m\u001b[0msrc\u001b[0m\u001b[1;33m,\u001b[0m \u001b[1;33m**\u001b[0m\u001b[0mkwds\u001b[0m\u001b[1;33m)\u001b[0m\u001b[1;33m\u001b[0m\u001b[1;33m\u001b[0m\u001b[0m\n\u001b[0m\u001b[0;32m   1892\u001b[0m         \u001b[0mself\u001b[0m\u001b[1;33m.\u001b[0m\u001b[0munnamed_cols\u001b[0m \u001b[1;33m=\u001b[0m \u001b[0mself\u001b[0m\u001b[1;33m.\u001b[0m\u001b[0m_reader\u001b[0m\u001b[1;33m.\u001b[0m\u001b[0munnamed_cols\u001b[0m\u001b[1;33m\u001b[0m\u001b[1;33m\u001b[0m\u001b[0m\n\u001b[0;32m   1893\u001b[0m \u001b[1;33m\u001b[0m\u001b[0m\n",
      "\u001b[1;32mpandas\\_libs\\parsers.pyx\u001b[0m in \u001b[0;36mpandas._libs.parsers.TextReader.__cinit__\u001b[1;34m()\u001b[0m\n",
      "\u001b[1;32mpandas\\_libs\\parsers.pyx\u001b[0m in \u001b[0;36mpandas._libs.parsers.TextReader._get_header\u001b[1;34m()\u001b[0m\n",
      "\u001b[1;32mpandas\\_libs\\parsers.pyx\u001b[0m in \u001b[0;36mpandas._libs.parsers.TextReader._tokenize_rows\u001b[1;34m()\u001b[0m\n",
      "\u001b[1;32mpandas\\_libs\\parsers.pyx\u001b[0m in \u001b[0;36mpandas._libs.parsers.raise_parser_error\u001b[1;34m()\u001b[0m\n",
      "\u001b[1;31mUnicodeDecodeError\u001b[0m: 'utf-8' codec can't decode byte 0x99 in position 8976: invalid start byte"
     ]
    }
   ],
   "source": [
    "doc_b=pd.read_csv(r\"C:\\Users\\Woojin\\Desktop\\2010data(2).csv\",header=0,encoding=\"utf8\",error_bad_lines=False)"
   ]
  },
  {
   "cell_type": "code",
   "execution_count": null,
   "metadata": {},
   "outputs": [],
   "source": [
    "doc_b.head()"
   ]
  },
  {
   "cell_type": "code",
   "execution_count": null,
   "metadata": {},
   "outputs": [],
   "source": [
    "doc_all= pd.concat([doc_a,doc_b])"
   ]
  },
  {
   "cell_type": "code",
   "execution_count": null,
   "metadata": {},
   "outputs": [],
   "source": [
    "doc_all=doc_all.drop_duplicates()"
   ]
  },
  {
   "cell_type": "code",
   "execution_count": null,
   "metadata": {},
   "outputs": [],
   "source": [
    "doc_all.tail()"
   ]
  },
  {
   "cell_type": "code",
   "execution_count": null,
   "metadata": {},
   "outputs": [],
   "source": [
    "doc_all.reset_index(drop= True)"
   ]
  },
  {
   "cell_type": "code",
   "execution_count": null,
   "metadata": {},
   "outputs": [],
   "source": [
    "doc_all.to_csv(r'C:\\Users\\Woojin\\Desktop\\2014(3).csv', index=False,encoding='utf8')"
   ]
  },
  {
   "cell_type": "code",
   "execution_count": null,
   "metadata": {},
   "outputs": [],
   "source": [
    "doc_all=doc_all.sort_values(\"Transaction Name\", axis = 0, ascending = True)"
   ]
  },
  {
   "cell_type": "code",
   "execution_count": null,
   "metadata": {},
   "outputs": [],
   "source": [
    "doc_all.head()"
   ]
  },
  {
   "cell_type": "code",
   "execution_count": null,
   "metadata": {},
   "outputs": [],
   "source": [
    "doc_all.reset_index(drop= True)"
   ]
  },
  {
   "cell_type": "code",
   "execution_count": null,
   "metadata": {},
   "outputs": [],
   "source": [
    "doc_all.to_csv(r'C:\\Users\\Woojin\\Desktop\\2014data(3).csv', index=False,encoding='utf8')"
   ]
  }
 ],
 "metadata": {
  "kernelspec": {
   "display_name": "Python 3",
   "language": "python",
   "name": "python3"
  },
  "language_info": {
   "codemirror_mode": {
    "name": "ipython",
    "version": 3
   },
   "file_extension": ".py",
   "mimetype": "text/x-python",
   "name": "python",
   "nbconvert_exporter": "python",
   "pygments_lexer": "ipython3",
   "version": "3.7.6"
  }
 },
 "nbformat": 4,
 "nbformat_minor": 4
}
